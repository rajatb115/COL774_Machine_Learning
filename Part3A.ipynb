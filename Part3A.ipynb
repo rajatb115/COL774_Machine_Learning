{
 "cells": [
  {
   "cell_type": "code",
   "execution_count": 1,
   "metadata": {},
   "outputs": [],
   "source": [
    "import numpy as np\n",
    "import matplotlib.pyplot as plt\n",
    "from numpy import genfromtxt\n",
    "import os\n",
    "import sys\n",
    "from scipy.stats import norm\n",
    "from sklearn import preprocessing\n",
    "\n",
    "debug = False"
   ]
  },
  {
   "cell_type": "code",
   "execution_count": 2,
   "metadata": {},
   "outputs": [],
   "source": [
    "def normalize(x):\n",
    "    \n",
    "    X1 = []\n",
    "    X2 = []\n",
    "    for i in x:\n",
    "        X1.append(i[0])\n",
    "        X2.append(i[1])\n",
    "    \n",
    "    mean = np.mean(X1)\n",
    "    std = np.std(X1)\n",
    "    \n",
    "    X1 = X1-mean\n",
    "    X1=X1/std\n",
    "    \n",
    "    mean = np.mean(X2)\n",
    "    std = np.std(X2)\n",
    "        \n",
    "    X2 = X2-mean\n",
    "    X2=X2/std\n",
    "    \n",
    "    x=[]\n",
    "    \n",
    "    for i in range(len(X2)):\n",
    "        x.append([X1[i],X2[i]])\n",
    "    \n",
    "    return x\n",
    "        "
   ]
  },
  {
   "cell_type": "code",
   "execution_count": 3,
   "metadata": {},
   "outputs": [],
   "source": [
    "def g(theta,x):\n",
    "    hyp = np.dot(theta.transpose(),x)\n",
    "    return 1 / (1 + np.exp(-1*hyp))\n",
    "\n",
    "# log likelyhood of theta\n",
    "def log_l(x,y,theta):\n",
    "    sm = 0\n",
    "    \n",
    "    for i in range(len(y)):\n",
    "        sm += y[i] * np.log(g(theta, x[i]))\n",
    "        sm +=(1 - y[i])*np.log(1 - g(theta, x[i]))\n",
    "    return sm\n",
    "\n",
    "# first order derivative of log likelyhood over all the dim\n",
    "def d_log_l(x,y,theta):\n",
    "    sm = np.zeros((x.shape[1],1))\n",
    "    \n",
    "    for i in range(x.shape[1]): # this is dimentional space\n",
    "        for j in range(x.shape[0]): # number of items\n",
    "            sm[i] += (y[j]-g(theta,x[j]) )*x[j][i]\n",
    "    \n",
    "    return sm\n",
    "\n",
    "# second order derivative of log likelyhood over all the dimentions    \n",
    "def dd_log_l(x,y,theta):\n",
    "    \n",
    "    # hessian is the partial derivative over two dimentions\n",
    "    # hessian is symmetric matrix hessian[i][j] = hessian[j][i]\n",
    "    sm = np.zeros((x.shape[1],x.shape[1]))\n",
    "    \n",
    "    for i in range(x.shape[1]):\n",
    "        for j in range(x.shape[1]):\n",
    "            for k in range(x.shape[0]):\n",
    "                sm[i][j] += g(theta,x[k])*(1-g(theta,x[k]))*x[k][i]*x[k][j]\n",
    "    \n",
    "    return sm\n",
    "\n",
    "\n",
    "def newton(x,y,threshold,learning_rate):\n",
    "    theta = np.zeros((x.shape[1],1))\n",
    "    \n",
    "    error_p = log_l(x,y,theta)\n",
    "    error_lis = []\n",
    "    error_lis.append(error_p)\n",
    "    \n",
    "    epoch = 0\n",
    "    while(True):\n",
    "        epoch+=1\n",
    "        \n",
    "        theta = theta + learning_rate*np.matmul((np.linalg.inv(dd_log_l(x,y,theta))), d_log_l(x,y,theta))\n",
    "        error = log_l(x,y,theta)\n",
    "        error_lis.append(error)\n",
    "        if(abs(error_p - error) < threshold or epoch > 30):\n",
    "            return theta,error_lis,epoch\n",
    "        error_p = error\n",
    "\n"
   ]
  },
  {
   "cell_type": "code",
   "execution_count": 7,
   "metadata": {},
   "outputs": [
    {
     "name": "stdout",
     "output_type": "stream",
     "text": [
      "Theta :\n",
      " [[ 0.40125316]\n",
      " [ 2.5885477 ]\n",
      " [-2.72558849]]\n",
      "Epochs : 7\n"
     ]
    }
   ],
   "source": [
    "X = genfromtxt('data/q3/logisticX.csv', delimiter=',')\n",
    "Y = genfromtxt('data/q3/logisticY.csv',delimiter=',')\n",
    "\n",
    "X_normal = normalize(X)\n",
    "\n",
    "# Add intercept\n",
    "X_normal = np.hstack((np.ones((len(X), 1)), X_normal))\n",
    "\n",
    "X_normal = np.array(X_normal).reshape((-1,3))\n",
    "Y = np.array(Y).reshape((-1,1))\n",
    "\n",
    "# print(X_normal.shape)\n",
    "# print(Y.shape)\n",
    "\n",
    "theta_f,error_list,epochs = newton(X_normal,Y,1e-8,1.)\n",
    "\n",
    "print(\"Theta :\\n\",theta_f)\n",
    "print(\"Epochs :\",epochs)"
   ]
  },
  {
   "cell_type": "code",
   "execution_count": null,
   "metadata": {},
   "outputs": [],
   "source": []
  }
 ],
 "metadata": {
  "kernelspec": {
   "display_name": "Python 3",
   "language": "python",
   "name": "python3"
  },
  "language_info": {
   "codemirror_mode": {
    "name": "ipython",
    "version": 3
   },
   "file_extension": ".py",
   "mimetype": "text/x-python",
   "name": "python",
   "nbconvert_exporter": "python",
   "pygments_lexer": "ipython3",
   "version": "3.8.5"
  }
 },
 "nbformat": 4,
 "nbformat_minor": 4
}
