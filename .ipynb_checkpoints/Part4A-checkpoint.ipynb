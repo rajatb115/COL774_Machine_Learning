{
 "cells": [
  {
   "cell_type": "code",
   "execution_count": 1,
   "metadata": {},
   "outputs": [],
   "source": [
    "import numpy as np\n",
    "import matplotlib.pyplot as plt\n",
    "from numpy import genfromtxt\n",
    "import os\n",
    "import sys\n",
    "from scipy.stats import norm\n",
    "from sklearn import preprocessing\n",
    "\n",
    "debug = False"
   ]
  },
  {
   "cell_type": "code",
   "execution_count": 2,
   "metadata": {},
   "outputs": [],
   "source": [
    "def normalize(x):\n",
    "    \n",
    "    X1 = []\n",
    "    X2 = []\n",
    "    for i in x:\n",
    "        X1.append(i[0])\n",
    "        X2.append(i[1])\n",
    "    \n",
    "    mean = np.mean(X1)\n",
    "    std = np.std(X1)\n",
    "    \n",
    "    X1 = X1-mean\n",
    "    X1=X1/std\n",
    "    \n",
    "    mean = np.mean(X2)\n",
    "    std = np.std(X2)\n",
    "        \n",
    "    X2 = X2-mean\n",
    "    X2=X2/std\n",
    "    \n",
    "    x=[]\n",
    "    \n",
    "    for i in range(len(X2)):\n",
    "        x.append([X1[i],X2[i]])\n",
    "    \n",
    "    return x"
   ]
  },
  {
   "cell_type": "code",
   "execution_count": 6,
   "metadata": {},
   "outputs": [
    {
     "name": "stdout",
     "output_type": "stream",
     "text": [
      "Phi : 0.5\n",
      "\n",
      "mew0 :\n",
      " [[ 0.75529433]\n",
      " [-0.68509431]]\n",
      "\n",
      "mew1 :\n",
      " [[-0.75529433]\n",
      " [ 0.68509431]]\n",
      "\n",
      "Covariance matrix :\n",
      " [[ 0.42953048 -0.02247228]\n",
      " [-0.02247228  0.53064579]]\n"
     ]
    }
   ],
   "source": [
    "X = genfromtxt('data/q4/q4x.dat')\n",
    "Y = genfromtxt('data/q4/q4y.dat',dtype='U')\n",
    "\n",
    "Y_normal = []\n",
    "\n",
    "for i in Y:\n",
    "    if(i=='Alaska'):\n",
    "        Y_normal.append([int(1)])\n",
    "    else:\n",
    "        Y_normal.append([int(0)])\n",
    "Y = np.array(Y)\n",
    "X = np.array(X)     \n",
    "\n",
    "X_normal = normalize(X)\n",
    "X_normal = np.array(X_normal).reshape((-1,2,1))\n",
    "Y_normal = np.array(Y_normal).reshape((-1,1))\n",
    "\n",
    "tmp1 = 0\n",
    "tmp2 = 0\n",
    "\n",
    "tmp3 = np.zeros((2,1))\n",
    "tmp4 = np.zeros((2,1))\n",
    "\n",
    "for i in range(X_normal.shape[0]):\n",
    "\n",
    "    if(Y_normal[i][0]==0):\n",
    "        tmp1+=1\n",
    "        tmp3+=X_normal[i]\n",
    "        #for j in range(2):\n",
    "        #    tmp3[j] += X_normal[i][j]\n",
    "    else:\n",
    "        tmp2+=1\n",
    "        tmp4+=X_normal[i]\n",
    "        #for j in range(2):\n",
    "        #    tmp4[j] += X_normal[i][j]\n",
    "\n",
    "mew_0 = tmp3/tmp1\n",
    "mew_1 = tmp4/tmp2\n",
    "mew = np.array([mew_0,mew_1])\n",
    "\n",
    "# # of times y(i) = 1 in the data / # of examples\n",
    "phi = tmp2/X_normal.shape[0]\n",
    "\n",
    "etha = np.zeros((2,2))\n",
    "\n",
    "for i in range(X_normal.shape[0]):\n",
    "    etha += np.dot(X_normal[i] - mew[Y_normal[i][0]], (X_normal[i] - mew[Y_normal[i][0]]).transpose() )\n",
    "etha = etha/X_normal.shape[0]\n",
    "\n",
    "print(\"Phi :\",phi)\n",
    "print(\"\\nmew0 :\\n\",mew_0)\n",
    "print(\"\\nmew1 :\\n\",mew_1)\n",
    "print(\"\\nCovariance matrix :\\n\",etha)"
   ]
  },
  {
   "cell_type": "code",
   "execution_count": null,
   "metadata": {},
   "outputs": [],
   "source": []
  }
 ],
 "metadata": {
  "kernelspec": {
   "display_name": "Python 3",
   "language": "python",
   "name": "python3"
  },
  "language_info": {
   "codemirror_mode": {
    "name": "ipython",
    "version": 3
   },
   "file_extension": ".py",
   "mimetype": "text/x-python",
   "name": "python",
   "nbconvert_exporter": "python",
   "pygments_lexer": "ipython3",
   "version": "3.8.5"
  }
 },
 "nbformat": 4,
 "nbformat_minor": 4
}
