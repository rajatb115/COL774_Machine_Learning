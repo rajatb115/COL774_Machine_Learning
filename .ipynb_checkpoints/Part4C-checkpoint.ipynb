{
 "cells": [
  {
   "cell_type": "code",
   "execution_count": 7,
   "metadata": {},
   "outputs": [],
   "source": [
    "import numpy as np\n",
    "import matplotlib.pyplot as plt\n",
    "from numpy import genfromtxt\n",
    "import os\n",
    "import sys\n",
    "from scipy.stats import norm\n",
    "from sklearn import preprocessing\n",
    "\n",
    "debug = False"
   ]
  },
  {
   "cell_type": "code",
   "execution_count": 8,
   "metadata": {},
   "outputs": [],
   "source": [
    "def normalize(x):\n",
    "    \n",
    "    X1 = []\n",
    "    X2 = []\n",
    "    for i in x:\n",
    "        X1.append(i[0])\n",
    "        X2.append(i[1])\n",
    "    \n",
    "    mean = np.mean(X1)\n",
    "    std = np.std(X1)\n",
    "    \n",
    "    X1 = X1-mean\n",
    "    X1=X1/std\n",
    "    \n",
    "    mean = np.mean(X2)\n",
    "    std = np.std(X2)\n",
    "        \n",
    "    X2 = X2-mean\n",
    "    X2=X2/std\n",
    "    \n",
    "    x=[]\n",
    "    \n",
    "    for i in range(len(X2)):\n",
    "        x.append([X1[i],X2[i]])\n",
    "    \n",
    "    return x"
   ]
  },
  {
   "cell_type": "code",
   "execution_count": 3,
   "metadata": {},
   "outputs": [],
   "source": [
    "X = genfromtxt('data/q4/q4x.dat')\n",
    "Y = genfromtxt('data/q4/q4y.dat',dtype='U')\n",
    "\n",
    "Y_normal = []\n",
    "\n",
    "for i in Y:\n",
    "    if(i=='Alaska'):\n",
    "        Y_normal.append([int(1)])\n",
    "    else:\n",
    "        Y_normal.append([int(0)])\n",
    "Y = np.array(Y)\n",
    "X = np.array(X)     \n",
    "\n",
    "X_normal = normalize(X)\n",
    "X_normal = np.array(X_normal).reshape((-1,2,1))\n",
    "Y_normal = np.array(Y_normal).reshape((-1,1))\n",
    "\n",
    "tmp1 = 0\n",
    "tmp2 = 0\n",
    "\n",
    "tmp3 = np.zeros((2,1))\n",
    "tmp4 = np.zeros((2,1))\n",
    "\n",
    "for i in range(X_normal.shape[0]):\n",
    "\n",
    "    if(Y_normal[i][0]==0):\n",
    "        tmp1+=1\n",
    "        tmp3+=X_normal[i]\n",
    "        #for j in range(2):\n",
    "        #    tmp3[j] += X_normal[i][j]\n",
    "    else:\n",
    "        tmp2+=1\n",
    "        tmp4+=X_normal[i]\n",
    "        #for j in range(2):\n",
    "        #    tmp4[j] += X_normal[i][j]\n",
    "\n",
    "mew_0 = tmp3/tmp1\n",
    "mew_1 = tmp4/tmp2\n",
    "mew = np.array([mew_0,mew_1])\n",
    "\n",
    "# # of times y(i) = 1 in the data / # of examples\n",
    "phi = tmp2/X_normal.shape[0]\n",
    "\n",
    "etha = np.zeros((2,2))\n",
    "\n",
    "for i in range(X_normal.shape[0]):\n",
    "    etha += np.dot(X_normal[i] - mew[Y_normal[i][0]], (X_normal[i] - mew[Y_normal[i][0]]).transpose() )\n",
    "etha = etha/X_normal.shape[0]\n",
    "\n",
    "# print(\"Phi :\",phi)\n",
    "# print(\"\\nmew0 :\\n\",mew_0)\n",
    "# print(\"\\nmew1 :\\n\",mew_1)\n",
    "# print(\"\\nCovariance matrix :\\n\",etha)"
   ]
  },
  {
   "cell_type": "code",
   "execution_count": 5,
   "metadata": {},
   "outputs": [],
   "source": [
    "X1 = []\n",
    "Y1 = []\n",
    "\n",
    "X2 = []\n",
    "Y2 = []\n",
    "\n",
    "for i in range(Y_normal.shape[0]):\n",
    "    if(Y_normal[i]==0):\n",
    "        X1.append(X_normal[i][0])\n",
    "        Y1.append(X_normal[i][1])\n",
    "    else:\n",
    "        X2.append(X_normal[i][0])\n",
    "        Y2.append(X_normal[i][1])\n",
    "        \n",
    "c = np.log(phi/(1-phi))\n",
    "term1 = 0.5 * (np.dot(np.dot(mew[0].T,np.linalg.inv(etha)),mew[0]) - np.dot(np.dot(mew[1].T,np.linalg.inv(etha)),mew[1]))\n",
    "term2 = np.dot((mew[0] - mew[1]).transpose(),np.linalg.inv(etha))\n",
    "\n",
    "\n",
    "X3 = []\n",
    "Y3 = []\n",
    "\n",
    "# term2[0]*X[0] + term2[1]*X[1] = term1  - c\n",
    "for i in range(X.shape[0]):\n",
    "    X3.append(X_normal[i][0])\n",
    "    k=((term1 -c - term2[0][0]*X_normal[i][0])/term2[0][1])\n",
    "    Y3.append(k[0][0])\n",
    "\n"
   ]
  },
  {
   "cell_type": "code",
   "execution_count": 7,
   "metadata": {},
   "outputs": [
    {
     "data": {
      "image/png": "[encoded data removed]",
      "text/plain": [
       "<Figure size 720x720 with 1 Axes>"
      ]
     },
     "metadata": {
      "needs_background": "light"
     },
     "output_type": "display_data"
    }
   ],
   "source": [
    "c = np.log(phi/(1-phi))\n",
    "term1 = 0.5 * (np.dot(np.dot(mew[0].T,np.linalg.inv(etha)),mew[0]) - np.dot(np.dot(mew[1].T,np.linalg.inv(etha)),mew[1]))\n",
    "term2 = np.dot((mew[0] - mew[1]).transpose(),np.linalg.inv(etha))\n",
    "\n",
    "\n",
    "X3 = []\n",
    "Y3 = []\n",
    "\n",
    "# term2[0]*X[0] + term2[1]*X[1] = term1  - c\n",
    "for i in range(X.shape[0]):\n",
    "    X3.append(X_normal[i][0])\n",
    "    k=((term1 -c - term2[0][0]*X_normal[i][0])/term2[0][1])\n",
    "    Y3.append(k[0][0])\n",
    "\n",
    "    \n",
    "plt.figure(figsize=(10,10))\n",
    "plt.scatter(X1, Y1, label = 'Canada',color=\"blue\")\n",
    "plt.scatter(X2, Y2, label ='Alaska',color=\"green\")\n",
    "plt.plot(X3,Y3)\n",
    "plt.legend(loc='upper right')\n",
    "plt.xlabel(\"Ring diameter in fresh water\")\n",
    "plt.ylabel(\"Ring diameter in marine water\")\n",
    "plt.title(\"Gaussian Discrmimant Analysis - Linear plot\")\n",
    "plt.savefig('output/Ques4(C).png')\n",
    "plt.show()"
   ]
  },
  {
   "cell_type": "code",
   "execution_count": null,
   "metadata": {},
   "outputs": [],
   "source": []
  },
  {
   "cell_type": "code",
   "execution_count": null,
   "metadata": {},
   "outputs": [],
   "source": []
  },
  {
   "cell_type": "code",
   "execution_count": null,
   "metadata": {},
   "outputs": [],
   "source": []
  }
 ],
 "metadata": {
  "kernelspec": {
   "display_name": "Python 3",
   "language": "python",
   "name": "python3"
  },
  "language_info": {
   "codemirror_mode": {
    "name": "ipython",
    "version": 3
   },
   "file_extension": ".py",
   "mimetype": "text/x-python",
   "name": "python",
   "nbconvert_exporter": "python",
   "pygments_lexer": "ipython3",
   "version": "3.8.5"
  }
 },
 "nbformat": 4,
 "nbformat_minor": 4
}
