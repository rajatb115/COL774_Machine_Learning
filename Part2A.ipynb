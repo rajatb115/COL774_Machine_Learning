{
 "cells": [
  {
   "cell_type": "code",
   "execution_count": 1,
   "metadata": {},
   "outputs": [],
   "source": [
    "import numpy as np\n",
    "import matplotlib.pyplot as plt\n",
    "from numpy import genfromtxt\n",
    "import os\n",
    "import sys\n",
    "from scipy.stats import norm\n",
    "from sklearn import preprocessing\n",
    "import math\n",
    "debug = True\n",
    "from numpy import genfromtxt"
   ]
  },
  {
   "cell_type": "code",
   "execution_count": 2,
   "metadata": {},
   "outputs": [],
   "source": [
    "sample_size = 1000000\n",
    "\n",
    "# Normal Distribution (Data)\n",
    "X1 = np.random.normal(3, 4, sample_size)\n",
    "X2 = np.random.normal(-1, 4, sample_size)\n",
    "\n",
    "X = []\n",
    "# Adding the intercept\n",
    "for i in range(sample_size):\n",
    "    X.append([1.0,X1[i],X2[i]])\n",
    "\n",
    "X= np.array(X)\n",
    "\n",
    "# noise\n",
    "e = np.random.normal(0,math.sqrt(2))\n",
    "\n",
    "# Initializing theta\n",
    "theta = np.array([3,1,2]).reshape((-1,1))"
   ]
  },
  {
   "cell_type": "code",
   "execution_count": null,
   "metadata": {},
   "outputs": [],
   "source": []
  }
 ],
 "metadata": {
  "kernelspec": {
   "display_name": "Python 3",
   "language": "python",
   "name": "python3"
  },
  "language_info": {
   "codemirror_mode": {
    "name": "ipython",
    "version": 3
   },
   "file_extension": ".py",
   "mimetype": "text/x-python",
   "name": "python",
   "nbconvert_exporter": "python",
   "pygments_lexer": "ipython3",
   "version": "3.8.5"
  }
 },
 "nbformat": 4,
 "nbformat_minor": 4
}
